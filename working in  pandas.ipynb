{
 "cells": [
  {
   "cell_type": "code",
   "execution_count": 1,
   "id": "9bf99d36",
   "metadata": {},
   "outputs": [],
   "source": [
    "import pandas as pd"
   ]
  },
  {
   "cell_type": "code",
   "execution_count": 2,
   "id": "41e5d5cd",
   "metadata": {},
   "outputs": [],
   "source": [
    "import numpy as np"
   ]
  },
  {
   "cell_type": "code",
   "execution_count": 3,
   "id": "ea38b36c",
   "metadata": {},
   "outputs": [],
   "source": [
    "Abi= np.array([1,2,3,4,5])  #comparing numpy to pandas"
   ]
  },
  {
   "cell_type": "code",
   "execution_count": 4,
   "id": "71cbdaf8",
   "metadata": {},
   "outputs": [
    {
     "data": {
      "text/plain": [
       "array([1, 2, 3, 4, 5])"
      ]
     },
     "execution_count": 4,
     "metadata": {},
     "output_type": "execute_result"
    }
   ],
   "source": [
    "Abi"
   ]
  },
  {
   "cell_type": "code",
   "execution_count": 5,
   "id": "a0e9596d",
   "metadata": {},
   "outputs": [
    {
     "data": {
      "text/plain": [
       "0    10\n",
       "1    20\n",
       "2    30\n",
       "3    40\n",
       "4    50\n",
       "dtype: int64"
      ]
     },
     "execution_count": 5,
     "metadata": {},
     "output_type": "execute_result"
    }
   ],
   "source": [
    "pd.Series([10,20,30,40,50])"
   ]
  },
  {
   "cell_type": "code",
   "execution_count": 6,
   "id": "7f857f3b",
   "metadata": {},
   "outputs": [],
   "source": [
    "Abi=pd.Series([10,20,30,40,50])"
   ]
  },
  {
   "cell_type": "code",
   "execution_count": 7,
   "id": "26d43564",
   "metadata": {},
   "outputs": [
    {
     "data": {
      "text/plain": [
       "0    10\n",
       "1    20\n",
       "2    30\n",
       "3    40\n",
       "4    50\n",
       "dtype: int64"
      ]
     },
     "execution_count": 7,
     "metadata": {},
     "output_type": "execute_result"
    }
   ],
   "source": [
    "Abi"
   ]
  },
  {
   "cell_type": "code",
   "execution_count": 8,
   "id": "c58a6064",
   "metadata": {},
   "outputs": [
    {
     "data": {
      "text/plain": [
       "pandas.core.series.Series"
      ]
     },
     "execution_count": 8,
     "metadata": {},
     "output_type": "execute_result"
    }
   ],
   "source": [
    "type(Abi)"
   ]
  },
  {
   "cell_type": "code",
   "execution_count": 9,
   "id": "550d4d17",
   "metadata": {},
   "outputs": [
    {
     "data": {
      "text/plain": [
       "[RangeIndex(start=0, stop=5, step=1)]"
      ]
     },
     "execution_count": 9,
     "metadata": {},
     "output_type": "execute_result"
    }
   ],
   "source": [
    "Abi.axes"
   ]
  },
  {
   "cell_type": "code",
   "execution_count": 10,
   "id": "8baf57f1",
   "metadata": {},
   "outputs": [
    {
     "data": {
      "text/plain": [
       "dtype('int64')"
      ]
     },
     "execution_count": 10,
     "metadata": {},
     "output_type": "execute_result"
    }
   ],
   "source": [
    "Abi.dtype"
   ]
  },
  {
   "cell_type": "code",
   "execution_count": 11,
   "id": "25b36fb4",
   "metadata": {},
   "outputs": [
    {
     "data": {
      "text/plain": [
       "5"
      ]
     },
     "execution_count": 11,
     "metadata": {},
     "output_type": "execute_result"
    }
   ],
   "source": [
    "Abi.size"
   ]
  },
  {
   "cell_type": "code",
   "execution_count": 12,
   "id": "339b15a5",
   "metadata": {},
   "outputs": [
    {
     "data": {
      "text/plain": [
       "1"
      ]
     },
     "execution_count": 12,
     "metadata": {},
     "output_type": "execute_result"
    }
   ],
   "source": [
    "Abi.ndim #shows the number of array"
   ]
  },
  {
   "cell_type": "code",
   "execution_count": 13,
   "id": "b3591f33",
   "metadata": {},
   "outputs": [
    {
     "data": {
      "text/plain": [
       "array([10, 20, 30, 40, 50], dtype=int64)"
      ]
     },
     "execution_count": 13,
     "metadata": {},
     "output_type": "execute_result"
    }
   ],
   "source": [
    "Abi.values"
   ]
  },
  {
   "cell_type": "code",
   "execution_count": 14,
   "id": "18cc2418",
   "metadata": {},
   "outputs": [
    {
     "data": {
      "text/plain": [
       "0    10\n",
       "1    20\n",
       "dtype: int64"
      ]
     },
     "execution_count": 14,
     "metadata": {},
     "output_type": "execute_result"
    }
   ],
   "source": [
    "Abi.head(2)"
   ]
  },
  {
   "cell_type": "code",
   "execution_count": 15,
   "id": "3dc24c59",
   "metadata": {},
   "outputs": [
    {
     "data": {
      "text/plain": [
       "0    10\n",
       "1    20\n",
       "2    30\n",
       "3    40\n",
       "4    50\n",
       "dtype: int64"
      ]
     },
     "execution_count": 15,
     "metadata": {},
     "output_type": "execute_result"
    }
   ],
   "source": [
    "Abi.head()"
   ]
  },
  {
   "cell_type": "code",
   "execution_count": 16,
   "id": "bd592925",
   "metadata": {},
   "outputs": [],
   "source": [
    "import numpy as np"
   ]
  },
  {
   "cell_type": "code",
   "execution_count": 17,
   "id": "4af76a89",
   "metadata": {},
   "outputs": [],
   "source": [
    "mytail = np.array([8,9,7,10,14,2,8])"
   ]
  },
  {
   "cell_type": "code",
   "execution_count": 18,
   "id": "31bafe04",
   "metadata": {},
   "outputs": [
    {
     "data": {
      "text/plain": [
       "array([ 8,  9,  7, 10, 14,  2,  8])"
      ]
     },
     "execution_count": 18,
     "metadata": {},
     "output_type": "execute_result"
    }
   ],
   "source": [
    "mytail"
   ]
  },
  {
   "cell_type": "code",
   "execution_count": 19,
   "id": "707e1a3d",
   "metadata": {},
   "outputs": [],
   "source": [
    "mytail = pd.Series(mytail)"
   ]
  },
  {
   "cell_type": "code",
   "execution_count": 20,
   "id": "350ad4fc",
   "metadata": {},
   "outputs": [
    {
     "data": {
      "text/plain": [
       "0     8\n",
       "1     9\n",
       "2     7\n",
       "3    10\n",
       "4    14\n",
       "5     2\n",
       "6     8\n",
       "dtype: int32"
      ]
     },
     "execution_count": 20,
     "metadata": {},
     "output_type": "execute_result"
    }
   ],
   "source": [
    "mytail"
   ]
  },
  {
   "cell_type": "code",
   "execution_count": 21,
   "id": "8ef95ed1",
   "metadata": {},
   "outputs": [],
   "source": [
    "import pandas as pd"
   ]
  },
  {
   "cell_type": "code",
   "execution_count": 22,
   "id": "6464ca86",
   "metadata": {},
   "outputs": [
    {
     "data": {
      "text/plain": [
       "0     13\n",
       "1    214\n",
       "2    210\n",
       "3    440\n",
       "4     53\n",
       "dtype: int64"
      ]
     },
     "execution_count": 22,
     "metadata": {},
     "output_type": "execute_result"
    }
   ],
   "source": [
    "pd.Series([13,214,210,440,53])"
   ]
  },
  {
   "cell_type": "code",
   "execution_count": 23,
   "id": "185fca4a",
   "metadata": {},
   "outputs": [
    {
     "data": {
      "text/plain": [
       "4      13\n",
       "6     214\n",
       "7     210\n",
       "3     440\n",
       "87     53\n",
       "dtype: int64"
      ]
     },
     "execution_count": 23,
     "metadata": {},
     "output_type": "execute_result"
    }
   ],
   "source": [
    "pd.Series([13,214,210,440,53],index=[4,6,7,3,87,])"
   ]
  },
  {
   "cell_type": "code",
   "execution_count": 25,
   "id": "d69c4b4f",
   "metadata": {},
   "outputs": [],
   "source": [
    "Abi=pd.Series([13,214,210,440,53],index=[\"first\",\"second\",\"third\",\"fourth\",\"fifth\"])"
   ]
  },
  {
   "cell_type": "code",
   "execution_count": 26,
   "id": "e0a6e44c",
   "metadata": {},
   "outputs": [
    {
     "data": {
      "text/plain": [
       "first      13\n",
       "second    214\n",
       "third     210\n",
       "fourth    440\n",
       "fifth      53\n",
       "dtype: int64"
      ]
     },
     "execution_count": 26,
     "metadata": {},
     "output_type": "execute_result"
    }
   ],
   "source": [
    "Abi"
   ]
  },
  {
   "cell_type": "code",
   "execution_count": 30,
   "id": "4fa7de7a",
   "metadata": {},
   "outputs": [
    {
     "data": {
      "text/plain": [
       "440"
      ]
     },
     "execution_count": 30,
     "metadata": {},
     "output_type": "execute_result"
    }
   ],
   "source": [
    "Abi[3]"
   ]
  },
  {
   "cell_type": "code",
   "execution_count": 31,
   "id": "3a72a15f",
   "metadata": {},
   "outputs": [
    {
     "data": {
      "text/plain": [
       "53"
      ]
     },
     "execution_count": 31,
     "metadata": {},
     "output_type": "execute_result"
    }
   ],
   "source": [
    "Abi['fifth']"
   ]
  },
  {
   "cell_type": "markdown",
   "id": "63db77cd",
   "metadata": {},
   "source": [
    "#concat\n"
   ]
  },
  {
   "cell_type": "code",
   "execution_count": 34,
   "id": "c443b9fa",
   "metadata": {},
   "outputs": [],
   "source": [
    "s1=pd.Series([2,3,55,2,6,44])\n",
    "s2=pd.Series([421,325,3426,2,1,4,42])"
   ]
  },
  {
   "cell_type": "code",
   "execution_count": 35,
   "id": "1aca1ea9",
   "metadata": {},
   "outputs": [
    {
     "data": {
      "text/plain": [
       "0       2\n",
       "1       3\n",
       "2      55\n",
       "3       2\n",
       "4       6\n",
       "5      44\n",
       "0     421\n",
       "1     325\n",
       "2    3426\n",
       "3       2\n",
       "4       1\n",
       "5       4\n",
       "6      42\n",
       "dtype: int64"
      ]
     },
     "execution_count": 35,
     "metadata": {},
     "output_type": "execute_result"
    }
   ],
   "source": [
    "pd.concat([s1,s2])"
   ]
  },
  {
   "cell_type": "code",
   "execution_count": 36,
   "id": "1c441c3a",
   "metadata": {},
   "outputs": [],
   "source": [
    "Abi=pd.Series([13,214,210,440,53],index=[\"first\",\"second\",\"third\",\"fourth\",\"fifth\"])"
   ]
  },
  {
   "cell_type": "code",
   "execution_count": 37,
   "id": "098c39b5",
   "metadata": {},
   "outputs": [
    {
     "data": {
      "text/plain": [
       "first      13\n",
       "second    214\n",
       "third     210\n",
       "fourth    440\n",
       "fifth      53\n",
       "dtype: int64"
      ]
     },
     "execution_count": 37,
     "metadata": {},
     "output_type": "execute_result"
    }
   ],
   "source": [
    "Abi"
   ]
  },
  {
   "cell_type": "code",
   "execution_count": 38,
   "id": "36bf55fb",
   "metadata": {},
   "outputs": [
    {
     "data": {
      "text/plain": [
       "13"
      ]
     },
     "execution_count": 38,
     "metadata": {},
     "output_type": "execute_result"
    }
   ],
   "source": [
    "Abi['first']"
   ]
  },
  {
   "cell_type": "code",
   "execution_count": 39,
   "id": "2967a721",
   "metadata": {},
   "outputs": [
    {
     "data": {
      "text/plain": [
       "<bound method Series.keys of first      13\n",
       "second    214\n",
       "third     210\n",
       "fourth    440\n",
       "fifth      53\n",
       "dtype: int64>"
      ]
     },
     "execution_count": 39,
     "metadata": {},
     "output_type": "execute_result"
    }
   ],
   "source": [
    "Abi.keys"
   ]
  },
  {
   "cell_type": "code",
   "execution_count": 40,
   "id": "8ffc059d",
   "metadata": {},
   "outputs": [
    {
     "data": {
      "text/plain": [
       "[('first', 13),\n",
       " ('second', 214),\n",
       " ('third', 210),\n",
       " ('fourth', 440),\n",
       " ('fifth', 53)]"
      ]
     },
     "execution_count": 40,
     "metadata": {},
     "output_type": "execute_result"
    }
   ],
   "source": [
    "list(Abi.items())"
   ]
  },
  {
   "cell_type": "code",
   "execution_count": 49,
   "id": "0a592917",
   "metadata": {},
   "outputs": [
    {
     "data": {
      "text/plain": [
       "0     2\n",
       "1     3\n",
       "2    55\n",
       "3     2\n",
       "4     6\n",
       "5    44\n",
       "dtype: int64"
      ]
     },
     "execution_count": 49,
     "metadata": {},
     "output_type": "execute_result"
    }
   ],
   "source": [
    "s1 = pd.Series([2,3,55,2,6,44])\n",
    "s1"
   ]
  },
  {
   "cell_type": "code",
   "execution_count": 50,
   "id": "318e7883",
   "metadata": {},
   "outputs": [
    {
     "data": {
      "text/plain": [
       "True"
      ]
     },
     "execution_count": 50,
     "metadata": {},
     "output_type": "execute_result"
    }
   ],
   "source": [
    "3 in s1"
   ]
  },
  {
   "cell_type": "code",
   "execution_count": 51,
   "id": "4fec3b15",
   "metadata": {},
   "outputs": [
    {
     "data": {
      "text/plain": [
       "False"
      ]
     },
     "execution_count": 51,
     "metadata": {},
     "output_type": "execute_result"
    }
   ],
   "source": [
    "34 in s1"
   ]
  },
  {
   "cell_type": "code",
   "execution_count": 52,
   "id": "61f5f1f4",
   "metadata": {},
   "outputs": [
    {
     "data": {
      "text/plain": [
       "2    55\n",
       "4     6\n",
       "dtype: int64"
      ]
     },
     "execution_count": 52,
     "metadata": {},
     "output_type": "execute_result"
    }
   ],
   "source": [
    "s1[[2,4]]"
   ]
  },
  {
   "cell_type": "code",
   "execution_count": 53,
   "id": "83ac2b19",
   "metadata": {},
   "outputs": [
    {
     "data": {
      "text/plain": [
       "1     3\n",
       "5    44\n",
       "dtype: int64"
      ]
     },
     "execution_count": 53,
     "metadata": {},
     "output_type": "execute_result"
    }
   ],
   "source": [
    "s1[[1,5]]"
   ]
  },
  {
   "cell_type": "code",
   "execution_count": 57,
   "id": "5de5a3c5",
   "metadata": {},
   "outputs": [
    {
     "data": {
      "text/plain": [
       "2    55\n",
       "dtype: int64"
      ]
     },
     "execution_count": 57,
     "metadata": {},
     "output_type": "execute_result"
    }
   ],
   "source": [
    "s1[[2]]"
   ]
  },
  {
   "cell_type": "code",
   "execution_count": 58,
   "id": "5a6be966",
   "metadata": {},
   "outputs": [
    {
     "data": {
      "text/plain": [
       "55"
      ]
     },
     "execution_count": 58,
     "metadata": {},
     "output_type": "execute_result"
    }
   ],
   "source": [
    "s1[2]"
   ]
  },
  {
   "cell_type": "code",
   "execution_count": 59,
   "id": "8f1aeba2",
   "metadata": {},
   "outputs": [],
   "source": [
    "s1[0]=4"
   ]
  },
  {
   "cell_type": "code",
   "execution_count": 60,
   "id": "4ad139a7",
   "metadata": {},
   "outputs": [
    {
     "data": {
      "text/plain": [
       "0     4\n",
       "1     3\n",
       "2    55\n",
       "3     2\n",
       "4     6\n",
       "5    44\n",
       "dtype: int64"
      ]
     },
     "execution_count": 60,
     "metadata": {},
     "output_type": "execute_result"
    }
   ],
   "source": [
    "s1"
   ]
  },
  {
   "cell_type": "code",
   "execution_count": 61,
   "id": "8867a2c3",
   "metadata": {},
   "outputs": [
    {
     "data": {
      "text/html": [
       "<div>\n",
       "<style scoped>\n",
       "    .dataframe tbody tr th:only-of-type {\n",
       "        vertical-align: middle;\n",
       "    }\n",
       "\n",
       "    .dataframe tbody tr th {\n",
       "        vertical-align: top;\n",
       "    }\n",
       "\n",
       "    .dataframe thead th {\n",
       "        text-align: right;\n",
       "    }\n",
       "</style>\n",
       "<table border=\"1\" class=\"dataframe\">\n",
       "  <thead>\n",
       "    <tr style=\"text-align: right;\">\n",
       "      <th></th>\n",
       "      <th>Name</th>\n",
       "      <th>Age</th>\n",
       "      <th>Location</th>\n",
       "    </tr>\n",
       "  </thead>\n",
       "  <tbody>\n",
       "    <tr>\n",
       "      <th>0</th>\n",
       "      <td>Mellon</td>\n",
       "      <td>17</td>\n",
       "      <td>Kotei</td>\n",
       "    </tr>\n",
       "    <tr>\n",
       "      <th>1</th>\n",
       "      <td>Josh</td>\n",
       "      <td>34</td>\n",
       "      <td>Tech</td>\n",
       "    </tr>\n",
       "    <tr>\n",
       "      <th>2</th>\n",
       "      <td>Mary</td>\n",
       "      <td>45</td>\n",
       "      <td>Ayeduase</td>\n",
       "    </tr>\n",
       "  </tbody>\n",
       "</table>\n",
       "</div>"
      ],
      "text/plain": [
       "     Name  Age  Location\n",
       "0  Mellon   17     Kotei\n",
       "1    Josh   34      Tech\n",
       "2    Mary   45  Ayeduase"
      ]
     },
     "execution_count": 61,
     "metadata": {},
     "output_type": "execute_result"
    }
   ],
   "source": [
    "pd.DataFrame({'Name': [\"Mellon\",\"Josh\", \"Mary\"], 'Age': [17,34,45],'Location':['Kotei','Tech','Ayeduase']})"
   ]
  },
  {
   "cell_type": "code",
   "execution_count": 62,
   "id": "37aadc5a",
   "metadata": {},
   "outputs": [
    {
     "data": {
      "text/html": [
       "<div>\n",
       "<style scoped>\n",
       "    .dataframe tbody tr th:only-of-type {\n",
       "        vertical-align: middle;\n",
       "    }\n",
       "\n",
       "    .dataframe tbody tr th {\n",
       "        vertical-align: top;\n",
       "    }\n",
       "\n",
       "    .dataframe thead th {\n",
       "        text-align: right;\n",
       "    }\n",
       "</style>\n",
       "<table border=\"1\" class=\"dataframe\">\n",
       "  <thead>\n",
       "    <tr style=\"text-align: right;\">\n",
       "      <th></th>\n",
       "      <th>Name</th>\n",
       "      <th>Age</th>\n",
       "      <th>Location</th>\n",
       "    </tr>\n",
       "  </thead>\n",
       "  <tbody>\n",
       "    <tr>\n",
       "      <th>0</th>\n",
       "      <td>Mellon</td>\n",
       "      <td>17</td>\n",
       "      <td>Kotei</td>\n",
       "    </tr>\n",
       "    <tr>\n",
       "      <th>1</th>\n",
       "      <td>Josh</td>\n",
       "      <td>34</td>\n",
       "      <td>Tech</td>\n",
       "    </tr>\n",
       "    <tr>\n",
       "      <th>2</th>\n",
       "      <td>Mary</td>\n",
       "      <td>45</td>\n",
       "      <td>Ayeduase</td>\n",
       "    </tr>\n",
       "  </tbody>\n",
       "</table>\n",
       "</div>"
      ],
      "text/plain": [
       "     Name  Age  Location\n",
       "0  Mellon   17     Kotei\n",
       "1    Josh   34      Tech\n",
       "2    Mary   45  Ayeduase"
      ]
     },
     "execution_count": 62,
     "metadata": {},
     "output_type": "execute_result"
    }
   ],
   "source": [
    "dic = ({'Name': [\"Mellon\",\"Josh\", \"Mary\"], 'Age': [17,34,45],'Location':['Kotei','Tech','Ayeduase']})\n",
    "dataframe = pd.DataFrame(dic)\n",
    "dataframe"
   ]
  },
  {
   "cell_type": "code",
   "execution_count": 63,
   "id": "d3addd7d",
   "metadata": {},
   "outputs": [
    {
     "data": {
      "text/plain": [
       "0    17\n",
       "1    34\n",
       "2    45\n",
       "Name: Age, dtype: int64"
      ]
     },
     "execution_count": 63,
     "metadata": {},
     "output_type": "execute_result"
    }
   ],
   "source": [
    "dataframe['Age']"
   ]
  },
  {
   "cell_type": "code",
   "execution_count": 66,
   "id": "0708e252",
   "metadata": {},
   "outputs": [
    {
     "data": {
      "text/plain": [
       "0    17\n",
       "1    34\n",
       "2    45\n",
       "Name: Age, dtype: int64"
      ]
     },
     "execution_count": 66,
     "metadata": {},
     "output_type": "execute_result"
    }
   ],
   "source": [
    "dataframe.Age"
   ]
  },
  {
   "cell_type": "code",
   "execution_count": 67,
   "id": "9d56be9a",
   "metadata": {},
   "outputs": [
    {
     "data": {
      "text/html": [
       "<div>\n",
       "<style scoped>\n",
       "    .dataframe tbody tr th:only-of-type {\n",
       "        vertical-align: middle;\n",
       "    }\n",
       "\n",
       "    .dataframe tbody tr th {\n",
       "        vertical-align: top;\n",
       "    }\n",
       "\n",
       "    .dataframe thead th {\n",
       "        text-align: right;\n",
       "    }\n",
       "</style>\n",
       "<table border=\"1\" class=\"dataframe\">\n",
       "  <thead>\n",
       "    <tr style=\"text-align: right;\">\n",
       "      <th></th>\n",
       "      <th>Age</th>\n",
       "    </tr>\n",
       "  </thead>\n",
       "  <tbody>\n",
       "    <tr>\n",
       "      <th>0</th>\n",
       "      <td>17</td>\n",
       "    </tr>\n",
       "    <tr>\n",
       "      <th>1</th>\n",
       "      <td>34</td>\n",
       "    </tr>\n",
       "    <tr>\n",
       "      <th>2</th>\n",
       "      <td>45</td>\n",
       "    </tr>\n",
       "  </tbody>\n",
       "</table>\n",
       "</div>"
      ],
      "text/plain": [
       "   Age\n",
       "0   17\n",
       "1   34\n",
       "2   45"
      ]
     },
     "execution_count": 67,
     "metadata": {},
     "output_type": "execute_result"
    }
   ],
   "source": [
    "dataframe[['Age']] #we use double square bracket when we want it in a  dataframe"
   ]
  },
  {
   "cell_type": "code",
   "execution_count": 68,
   "id": "b3fcbb8b",
   "metadata": {},
   "outputs": [
    {
     "data": {
      "text/html": [
       "<div>\n",
       "<style scoped>\n",
       "    .dataframe tbody tr th:only-of-type {\n",
       "        vertical-align: middle;\n",
       "    }\n",
       "\n",
       "    .dataframe tbody tr th {\n",
       "        vertical-align: top;\n",
       "    }\n",
       "\n",
       "    .dataframe thead th {\n",
       "        text-align: right;\n",
       "    }\n",
       "</style>\n",
       "<table border=\"1\" class=\"dataframe\">\n",
       "  <thead>\n",
       "    <tr style=\"text-align: right;\">\n",
       "      <th></th>\n",
       "      <th>variable</th>\n",
       "    </tr>\n",
       "  </thead>\n",
       "  <tbody>\n",
       "    <tr>\n",
       "      <th>0</th>\n",
       "      <td>23</td>\n",
       "    </tr>\n",
       "    <tr>\n",
       "      <th>1</th>\n",
       "      <td>35423</td>\n",
       "    </tr>\n",
       "    <tr>\n",
       "      <th>2</th>\n",
       "      <td>25235</td>\n",
       "    </tr>\n",
       "    <tr>\n",
       "      <th>3</th>\n",
       "      <td>325</td>\n",
       "    </tr>\n",
       "    <tr>\n",
       "      <th>4</th>\n",
       "      <td>235</td>\n",
       "    </tr>\n",
       "    <tr>\n",
       "      <th>5</th>\n",
       "      <td>75</td>\n",
       "    </tr>\n",
       "  </tbody>\n",
       "</table>\n",
       "</div>"
      ],
      "text/plain": [
       "   variable\n",
       "0        23\n",
       "1     35423\n",
       "2     25235\n",
       "3       325\n",
       "4       235\n",
       "5        75"
      ]
     },
     "execution_count": 68,
     "metadata": {},
     "output_type": "execute_result"
    }
   ],
   "source": [
    "l = [23,35423,25235,325,235,75]\n",
    "df = pd.DataFrame(l,columns=[\"variable\"])\n",
    "df"
   ]
  },
  {
   "cell_type": "code",
   "execution_count": 69,
   "id": "2b4f503e",
   "metadata": {},
   "outputs": [
    {
     "data": {
      "text/html": [
       "<div>\n",
       "<style scoped>\n",
       "    .dataframe tbody tr th:only-of-type {\n",
       "        vertical-align: middle;\n",
       "    }\n",
       "\n",
       "    .dataframe tbody tr th {\n",
       "        vertical-align: top;\n",
       "    }\n",
       "\n",
       "    .dataframe thead th {\n",
       "        text-align: right;\n",
       "    }\n",
       "</style>\n",
       "<table border=\"1\" class=\"dataframe\">\n",
       "  <thead>\n",
       "    <tr style=\"text-align: right;\">\n",
       "      <th></th>\n",
       "      <th>Names</th>\n",
       "    </tr>\n",
       "  </thead>\n",
       "  <tbody>\n",
       "    <tr>\n",
       "      <th>0</th>\n",
       "      <td>John</td>\n",
       "    </tr>\n",
       "    <tr>\n",
       "      <th>1</th>\n",
       "      <td>Mike</td>\n",
       "    </tr>\n",
       "    <tr>\n",
       "      <th>2</th>\n",
       "      <td>Julia</td>\n",
       "    </tr>\n",
       "    <tr>\n",
       "      <th>3</th>\n",
       "      <td>Anastacia</td>\n",
       "    </tr>\n",
       "  </tbody>\n",
       "</table>\n",
       "</div>"
      ],
      "text/plain": [
       "       Names\n",
       "0       John\n",
       "1       Mike\n",
       "2      Julia\n",
       "3  Anastacia"
      ]
     },
     "execution_count": 69,
     "metadata": {},
     "output_type": "execute_result"
    }
   ],
   "source": [
    "names = [\"John\",\"Mike\",\"Julia\",\"Anastacia\"]\n",
    "df = pd.DataFrame(names,columns=[\"Names\"]) \n",
    "df"
   ]
  },
  {
   "cell_type": "code",
   "execution_count": 71,
   "id": "07b28f4f",
   "metadata": {},
   "outputs": [
    {
     "data": {
      "text/plain": [
       "array([[ 5,  6,  7],\n",
       "       [ 3,  2,  1],\n",
       "       [ 2, 42,  5]])"
      ]
     },
     "execution_count": 71,
     "metadata": {},
     "output_type": "execute_result"
    }
   ],
   "source": [
    "arr = np.array([5,6,7,3,2,1,2,42,5]).reshape(3,3,)\n",
    "arr"
   ]
  },
  {
   "cell_type": "code",
   "execution_count": 73,
   "id": "1d87fb77",
   "metadata": {},
   "outputs": [
    {
     "data": {
      "text/html": [
       "<div>\n",
       "<style scoped>\n",
       "    .dataframe tbody tr th:only-of-type {\n",
       "        vertical-align: middle;\n",
       "    }\n",
       "\n",
       "    .dataframe tbody tr th {\n",
       "        vertical-align: top;\n",
       "    }\n",
       "\n",
       "    .dataframe thead th {\n",
       "        text-align: right;\n",
       "    }\n",
       "</style>\n",
       "<table border=\"1\" class=\"dataframe\">\n",
       "  <thead>\n",
       "    <tr style=\"text-align: right;\">\n",
       "      <th></th>\n",
       "      <th>Variable_1</th>\n",
       "      <th>Variable_2</th>\n",
       "      <th>Variable_3</th>\n",
       "    </tr>\n",
       "  </thead>\n",
       "  <tbody>\n",
       "    <tr>\n",
       "      <th>0</th>\n",
       "      <td>5</td>\n",
       "      <td>6</td>\n",
       "      <td>7</td>\n",
       "    </tr>\n",
       "    <tr>\n",
       "      <th>1</th>\n",
       "      <td>3</td>\n",
       "      <td>2</td>\n",
       "      <td>1</td>\n",
       "    </tr>\n",
       "    <tr>\n",
       "      <th>2</th>\n",
       "      <td>2</td>\n",
       "      <td>42</td>\n",
       "      <td>5</td>\n",
       "    </tr>\n",
       "  </tbody>\n",
       "</table>\n",
       "</div>"
      ],
      "text/plain": [
       "   Variable_1  Variable_2  Variable_3\n",
       "0           5           6           7\n",
       "1           3           2           1\n",
       "2           2          42           5"
      ]
     },
     "execution_count": 73,
     "metadata": {},
     "output_type": "execute_result"
    }
   ],
   "source": [
    "pd.DataFrame(data=arr,columns=[\"Variable_1\",\"Variable_2\",\"Variable_3\"])"
   ]
  },
  {
   "cell_type": "code",
   "execution_count": 74,
   "id": "c0bfa470",
   "metadata": {},
   "outputs": [
    {
     "data": {
      "text/html": [
       "<div>\n",
       "<style scoped>\n",
       "    .dataframe tbody tr th:only-of-type {\n",
       "        vertical-align: middle;\n",
       "    }\n",
       "\n",
       "    .dataframe tbody tr th {\n",
       "        vertical-align: top;\n",
       "    }\n",
       "\n",
       "    .dataframe thead th {\n",
       "        text-align: right;\n",
       "    }\n",
       "</style>\n",
       "<table border=\"1\" class=\"dataframe\">\n",
       "  <thead>\n",
       "    <tr style=\"text-align: right;\">\n",
       "      <th></th>\n",
       "      <th>Variable_1</th>\n",
       "      <th>Variable_2</th>\n",
       "      <th>Variable_3</th>\n",
       "    </tr>\n",
       "  </thead>\n",
       "  <tbody>\n",
       "    <tr>\n",
       "      <th>0</th>\n",
       "      <td>5</td>\n",
       "      <td>6</td>\n",
       "      <td>7</td>\n",
       "    </tr>\n",
       "    <tr>\n",
       "      <th>1</th>\n",
       "      <td>3</td>\n",
       "      <td>2</td>\n",
       "      <td>1</td>\n",
       "    </tr>\n",
       "    <tr>\n",
       "      <th>2</th>\n",
       "      <td>2</td>\n",
       "      <td>42</td>\n",
       "      <td>5</td>\n",
       "    </tr>\n",
       "  </tbody>\n",
       "</table>\n",
       "</div>"
      ],
      "text/plain": [
       "   Variable_1  Variable_2  Variable_3\n",
       "0           5           6           7\n",
       "1           3           2           1\n",
       "2           2          42           5"
      ]
     },
     "execution_count": 74,
     "metadata": {},
     "output_type": "execute_result"
    }
   ],
   "source": [
    "Abi = pd.DataFrame(arr,columns=[\"Variable_1\",\"Variable_2\",\"Variable_3\"])\n",
    "Abi"
   ]
  },
  {
   "cell_type": "code",
   "execution_count": 75,
   "id": "963deaec",
   "metadata": {},
   "outputs": [
    {
     "data": {
      "text/plain": [
       "[RangeIndex(start=0, stop=3, step=1),\n",
       " Index(['Variable_1', 'Variable_2', 'Variable_3'], dtype='object')]"
      ]
     },
     "execution_count": 75,
     "metadata": {},
     "output_type": "execute_result"
    }
   ],
   "source": [
    "Abi.axes"
   ]
  },
  {
   "cell_type": "code",
   "execution_count": 76,
   "id": "a007fb54",
   "metadata": {},
   "outputs": [
    {
     "data": {
      "text/plain": [
       "(3, 3)"
      ]
     },
     "execution_count": 76,
     "metadata": {},
     "output_type": "execute_result"
    }
   ],
   "source": [
    "Abi.shape "
   ]
  },
  {
   "cell_type": "code",
   "execution_count": 77,
   "id": "9ea4009e",
   "metadata": {},
   "outputs": [
    {
     "data": {
      "text/plain": [
       "2"
      ]
     },
     "execution_count": 77,
     "metadata": {},
     "output_type": "execute_result"
    }
   ],
   "source": [
    "Abi.ndim"
   ]
  },
  {
   "cell_type": "code",
   "execution_count": 78,
   "id": "64174e9b",
   "metadata": {},
   "outputs": [
    {
     "data": {
      "text/plain": [
       "9"
      ]
     },
     "execution_count": 78,
     "metadata": {},
     "output_type": "execute_result"
    }
   ],
   "source": [
    "Abi.size"
   ]
  },
  {
   "cell_type": "code",
   "execution_count": 79,
   "id": "8ef2bcaa",
   "metadata": {},
   "outputs": [
    {
     "data": {
      "text/plain": [
       "Index(['Variable_1', 'Variable_2', 'Variable_3'], dtype='object')"
      ]
     },
     "execution_count": 79,
     "metadata": {},
     "output_type": "execute_result"
    }
   ],
   "source": [
    "Abi.columns"
   ]
  },
  {
   "cell_type": "code",
   "execution_count": 80,
   "id": "60f1138a",
   "metadata": {},
   "outputs": [
    {
     "data": {
      "text/plain": [
       "RangeIndex(start=0, stop=3, step=1)"
      ]
     },
     "execution_count": 80,
     "metadata": {},
     "output_type": "execute_result"
    }
   ],
   "source": [
    "Abi.index"
   ]
  },
  {
   "cell_type": "code",
   "execution_count": 82,
   "id": "36d47968",
   "metadata": {},
   "outputs": [
    {
     "data": {
      "text/plain": [
       "array([[ 5,  6,  7],\n",
       "       [ 3,  2,  1],\n",
       "       [ 2, 42,  5]])"
      ]
     },
     "execution_count": 82,
     "metadata": {},
     "output_type": "execute_result"
    }
   ],
   "source": [
    "Abi.values"
   ]
  },
  {
   "cell_type": "code",
   "execution_count": null,
   "id": "535fbf54",
   "metadata": {},
   "outputs": [],
   "source": []
  }
 ],
 "metadata": {
  "kernelspec": {
   "display_name": "Python 3 (ipykernel)",
   "language": "python",
   "name": "python3"
  },
  "language_info": {
   "codemirror_mode": {
    "name": "ipython",
    "version": 3
   },
   "file_extension": ".py",
   "mimetype": "text/x-python",
   "name": "python",
   "nbconvert_exporter": "python",
   "pygments_lexer": "ipython3",
   "version": "3.9.12"
  }
 },
 "nbformat": 4,
 "nbformat_minor": 5
}
