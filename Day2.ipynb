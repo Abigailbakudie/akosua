{
 "cells": [
  {
   "cell_type": "code",
   "execution_count": 1,
   "id": "0fa54f9c",
   "metadata": {},
   "outputs": [],
   "source": [
    "def hive():\n",
    "    print('Hello World')"
   ]
  },
  {
   "cell_type": "code",
   "execution_count": 2,
   "id": "fd5ca96e",
   "metadata": {},
   "outputs": [
    {
     "name": "stdout",
     "output_type": "stream",
     "text": [
      "Hello World\n"
     ]
    }
   ],
   "source": [
    "hive()"
   ]
  },
  {
   "cell_type": "code",
   "execution_count": 3,
   "id": "4681db7a",
   "metadata": {},
   "outputs": [],
   "source": [
    "def Abi():\n",
    "    print('God is Good')"
   ]
  },
  {
   "cell_type": "code",
   "execution_count": 4,
   "id": "2243dd6a",
   "metadata": {},
   "outputs": [
    {
     "name": "stdout",
     "output_type": "stream",
     "text": [
      "God is Good\n"
     ]
    }
   ],
   "source": [
    "Abi()"
   ]
  },
  {
   "cell_type": "code",
   "execution_count": 5,
   "id": "8bbe41c3",
   "metadata": {},
   "outputs": [
    {
     "name": "stdout",
     "output_type": "stream",
     "text": [
      "total is 70\n"
     ]
    }
   ],
   "source": [
    "def sum(num1,num2):\n",
    "    SumTotal=num1+num2\n",
    "    print('total is',SumTotal)\n",
    "    \n",
    "sum(20,50)"
   ]
  },
  {
   "cell_type": "code",
   "execution_count": 6,
   "id": "21402c96",
   "metadata": {},
   "outputs": [
    {
     "name": "stdout",
     "output_type": "stream",
     "text": [
      "Inside the function local total 30\n",
      "Outside the function global total 0\n"
     ]
    }
   ],
   "source": [
    "total=0\n",
    "\n",
    "def sum(arg1,arg2):\n",
    "    total=arg1+arg2\n",
    "    print('Inside the function local total',total)\n",
    "    return total\n",
    "\n",
    "sum(20,10)\n",
    "print('Outside the function global total',total)"
   ]
  },
  {
   "cell_type": "code",
   "execution_count": 7,
   "id": "83bc6002",
   "metadata": {},
   "outputs": [
    {
     "name": "stdout",
     "output_type": "stream",
     "text": [
      "enter any fruitsmango\n",
      "true\n"
     ]
    }
   ],
   "source": [
    "fruit = str(input('enter any fruits'))\n",
    "fruits =[\"apple\",\"banana\",\"cherry\",\"grapes\",\"orange\",\"mango\",\"pineapple\"]\n",
    "if \"mango\" in fruits:\n",
    "    print(\"true\")\n",
    "else:\n",
    "    print(\"it is not a fruit\")"
   ]
  },
  {
   "cell_type": "code",
   "execution_count": null,
   "id": "0599444f",
   "metadata": {},
   "outputs": [],
   "source": []
  }
 ],
 "metadata": {
  "kernelspec": {
   "display_name": "Python 3 (ipykernel)",
   "language": "python",
   "name": "python3"
  },
  "language_info": {
   "codemirror_mode": {
    "name": "ipython",
    "version": 3
   },
   "file_extension": ".py",
   "mimetype": "text/x-python",
   "name": "python",
   "nbconvert_exporter": "python",
   "pygments_lexer": "ipython3",
   "version": "3.9.12"
  }
 },
 "nbformat": 4,
 "nbformat_minor": 5
}
