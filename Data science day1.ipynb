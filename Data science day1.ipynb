{
 "cells": [
  {
   "cell_type": "code",
   "execution_count": 1,
   "id": "e1ffe6ed",
   "metadata": {},
   "outputs": [
    {
     "data": {
      "text/plain": [
       "30"
      ]
     },
     "execution_count": 1,
     "metadata": {},
     "output_type": "execute_result"
    }
   ],
   "source": [
    "30"
   ]
  },
  {
   "cell_type": "code",
   "execution_count": 2,
   "id": "405cd0f5",
   "metadata": {},
   "outputs": [],
   "source": [
    "Abi=30"
   ]
  },
  {
   "cell_type": "code",
   "execution_count": 3,
   "id": "ea0a7c76",
   "metadata": {},
   "outputs": [
    {
     "data": {
      "text/plain": [
       "30"
      ]
     },
     "execution_count": 3,
     "metadata": {},
     "output_type": "execute_result"
    }
   ],
   "source": [
    "Abi"
   ]
  },
  {
   "cell_type": "code",
   "execution_count": 4,
   "id": "dea4b1bc",
   "metadata": {},
   "outputs": [
    {
     "data": {
      "text/plain": [
       "31"
      ]
     },
     "execution_count": 4,
     "metadata": {},
     "output_type": "execute_result"
    }
   ],
   "source": [
    "30+1"
   ]
  },
  {
   "cell_type": "code",
   "execution_count": 5,
   "id": "debfd267",
   "metadata": {},
   "outputs": [
    {
     "data": {
      "text/plain": [
       "'Hello'"
      ]
     },
     "execution_count": 5,
     "metadata": {},
     "output_type": "execute_result"
    }
   ],
   "source": [
    "'Hello'"
   ]
  },
  {
   "cell_type": "code",
   "execution_count": 6,
   "id": "1ed3648f",
   "metadata": {},
   "outputs": [
    {
     "data": {
      "text/plain": [
       "-30"
      ]
     },
     "execution_count": 6,
     "metadata": {},
     "output_type": "execute_result"
    }
   ],
   "source": [
    "50-80"
   ]
  },
  {
   "cell_type": "code",
   "execution_count": 7,
   "id": "4f4f11ec",
   "metadata": {},
   "outputs": [
    {
     "data": {
      "text/plain": [
       "15.3"
      ]
     },
     "execution_count": 7,
     "metadata": {},
     "output_type": "execute_result"
    }
   ],
   "source": [
    "10.3+5"
   ]
  },
  {
   "cell_type": "code",
   "execution_count": 8,
   "id": "28f16571",
   "metadata": {},
   "outputs": [
    {
     "data": {
      "text/plain": [
       "0"
      ]
     },
     "execution_count": 8,
     "metadata": {},
     "output_type": "execute_result"
    }
   ],
   "source": [
    "9%3"
   ]
  },
  {
   "cell_type": "code",
   "execution_count": 9,
   "id": "597f743c",
   "metadata": {},
   "outputs": [
    {
     "data": {
      "text/plain": [
       "15"
      ]
     },
     "execution_count": 9,
     "metadata": {},
     "output_type": "execute_result"
    }
   ],
   "source": [
    "5*3"
   ]
  },
  {
   "cell_type": "code",
   "execution_count": 10,
   "id": "3d3c1fe8",
   "metadata": {},
   "outputs": [],
   "source": [
    "str_1='hello'"
   ]
  },
  {
   "cell_type": "code",
   "execution_count": 11,
   "id": "11a6f298",
   "metadata": {},
   "outputs": [
    {
     "data": {
      "text/plain": [
       "str"
      ]
     },
     "execution_count": 11,
     "metadata": {},
     "output_type": "execute_result"
    }
   ],
   "source": [
    "str"
   ]
  },
  {
   "cell_type": "code",
   "execution_count": 12,
   "id": "50fcf2f6",
   "metadata": {},
   "outputs": [
    {
     "data": {
      "text/plain": [
       "str"
      ]
     },
     "execution_count": 12,
     "metadata": {},
     "output_type": "execute_result"
    }
   ],
   "source": [
    "type(str_1)"
   ]
  },
  {
   "cell_type": "code",
   "execution_count": 13,
   "id": "fbd9b2e4",
   "metadata": {},
   "outputs": [],
   "source": [
    "age=30"
   ]
  },
  {
   "cell_type": "code",
   "execution_count": 14,
   "id": "7d61115e",
   "metadata": {},
   "outputs": [
    {
     "data": {
      "text/plain": [
       "30"
      ]
     },
     "execution_count": 14,
     "metadata": {},
     "output_type": "execute_result"
    }
   ],
   "source": [
    "age"
   ]
  },
  {
   "cell_type": "code",
   "execution_count": 15,
   "id": "72056cf1",
   "metadata": {},
   "outputs": [
    {
     "data": {
      "text/plain": [
       "int"
      ]
     },
     "execution_count": 15,
     "metadata": {},
     "output_type": "execute_result"
    }
   ],
   "source": [
    "type(age)"
   ]
  },
  {
   "cell_type": "code",
   "execution_count": 16,
   "id": "e45370d0",
   "metadata": {},
   "outputs": [],
   "source": [
    "litres=3.5"
   ]
  },
  {
   "cell_type": "code",
   "execution_count": 17,
   "id": "60eaf9b7",
   "metadata": {},
   "outputs": [
    {
     "name": "stdout",
     "output_type": "stream",
     "text": [
      "3.5\n"
     ]
    }
   ],
   "source": [
    "print(litres)"
   ]
  },
  {
   "cell_type": "code",
   "execution_count": 18,
   "id": "2c20bae9",
   "metadata": {},
   "outputs": [
    {
     "data": {
      "text/plain": [
       "float"
      ]
     },
     "execution_count": 18,
     "metadata": {},
     "output_type": "execute_result"
    }
   ],
   "source": [
    "type(litres)"
   ]
  },
  {
   "cell_type": "code",
   "execution_count": 19,
   "id": "35513964",
   "metadata": {},
   "outputs": [],
   "source": [
    "name='John'"
   ]
  },
  {
   "cell_type": "code",
   "execution_count": 20,
   "id": "31ce881b",
   "metadata": {},
   "outputs": [
    {
     "name": "stdout",
     "output_type": "stream",
     "text": [
      "John\n"
     ]
    }
   ],
   "source": [
    "print(name)"
   ]
  },
  {
   "cell_type": "code",
   "execution_count": 21,
   "id": "e1ef1e8e",
   "metadata": {},
   "outputs": [
    {
     "data": {
      "text/plain": [
       "str"
      ]
     },
     "execution_count": 21,
     "metadata": {},
     "output_type": "execute_result"
    }
   ],
   "source": [
    "type(name)"
   ]
  },
  {
   "cell_type": "code",
   "execution_count": 22,
   "id": "0425ac7f",
   "metadata": {},
   "outputs": [],
   "source": [
    "a=b=c=1"
   ]
  },
  {
   "cell_type": "code",
   "execution_count": 23,
   "id": "6d34fb3b",
   "metadata": {},
   "outputs": [
    {
     "name": "stdout",
     "output_type": "stream",
     "text": [
      "1\n"
     ]
    }
   ],
   "source": [
    "print(a)"
   ]
  },
  {
   "cell_type": "code",
   "execution_count": 24,
   "id": "6b8c8cdf",
   "metadata": {},
   "outputs": [
    {
     "name": "stdout",
     "output_type": "stream",
     "text": [
      "1\n"
     ]
    }
   ],
   "source": [
    "print(b)"
   ]
  },
  {
   "cell_type": "code",
   "execution_count": 25,
   "id": "2169a3a1",
   "metadata": {},
   "outputs": [
    {
     "name": "stdout",
     "output_type": "stream",
     "text": [
      "1\n"
     ]
    }
   ],
   "source": [
    "#this is a variable\n",
    "print(c)"
   ]
  },
  {
   "cell_type": "code",
   "execution_count": 26,
   "id": "69ed2700",
   "metadata": {},
   "outputs": [],
   "source": [
    "#lists and dictionaries\n",
    "Abi=[1998,'school','hive',48.8]"
   ]
  },
  {
   "cell_type": "code",
   "execution_count": 27,
   "id": "6d254388",
   "metadata": {},
   "outputs": [
    {
     "name": "stdout",
     "output_type": "stream",
     "text": [
      "[1998, 'school', 'hive', 48.8]\n"
     ]
    }
   ],
   "source": [
    "print(Abi)"
   ]
  },
  {
   "cell_type": "code",
   "execution_count": 28,
   "id": "15a5623a",
   "metadata": {},
   "outputs": [
    {
     "data": {
      "text/plain": [
       "list"
      ]
     },
     "execution_count": 28,
     "metadata": {},
     "output_type": "execute_result"
    }
   ],
   "source": [
    "type(Abi)"
   ]
  },
  {
   "cell_type": "code",
   "execution_count": 29,
   "id": "677bd13c",
   "metadata": {},
   "outputs": [
    {
     "name": "stdout",
     "output_type": "stream",
     "text": [
      "list1[0]: 1\n"
     ]
    }
   ],
   "source": [
    "#slicing\n",
    "\n",
    "list1=(1,2,3,4,5)\n",
    "print('list1[0]:',list1[0])"
   ]
  },
  {
   "cell_type": "code",
   "execution_count": 30,
   "id": "b777512f",
   "metadata": {},
   "outputs": [
    {
     "name": "stdout",
     "output_type": "stream",
     "text": [
      "Abi[0]: ['hive', 'boy']\n"
     ]
    }
   ],
   "source": [
    "Abi=['hive','boy','yaa','abena']\n",
    "print('Abi[0]:',Abi[0:2])"
   ]
  },
  {
   "cell_type": "code",
   "execution_count": 31,
   "id": "af3c12cd",
   "metadata": {},
   "outputs": [
    {
     "name": "stdout",
     "output_type": "stream",
     "text": [
      "['hive', 'boy']\n"
     ]
    }
   ],
   "source": [
    "print(Abi[0:2])"
   ]
  },
  {
   "cell_type": "code",
   "execution_count": 32,
   "id": "1a0eac1b",
   "metadata": {},
   "outputs": [
    {
     "name": "stdout",
     "output_type": "stream",
     "text": [
      "updated list ['c++', 'java', 'python', 'c#']\n"
     ]
    }
   ],
   "source": [
    "list1=['c++','java','python']\n",
    "list1.append('c#')\n",
    "print('updated list',list1)"
   ]
  },
  {
   "cell_type": "code",
   "execution_count": 33,
   "id": "9e8f034f",
   "metadata": {},
   "outputs": [
    {
     "name": "stdout",
     "output_type": "stream",
     "text": [
      "final list ['physics', 'chemistry', 'Biology', 'maths']\n"
     ]
    }
   ],
   "source": [
    "list1=['physics','chemistry','maths']\n",
    "list1.insert(2,'Biology')\n",
    "print('final list',list1)"
   ]
  },
  {
   "cell_type": "code",
   "execution_count": 34,
   "id": "34f05125",
   "metadata": {},
   "outputs": [
    {
     "name": "stdout",
     "output_type": "stream",
     "text": [
      "List Now ['physics', 'chemistry', 'maths']\n"
     ]
    }
   ],
   "source": [
    "list1=['physics', 'chemistry', 'Biology', 'maths']\n",
    "list1.remove('Biology')\n",
    "print('List Now',list1)"
   ]
  },
  {
   "cell_type": "code",
   "execution_count": 35,
   "id": "e671337b",
   "metadata": {},
   "outputs": [
    {
     "name": "stdout",
     "output_type": "stream",
     "text": [
      "List Now ['physics', 'chemistry']\n"
     ]
    }
   ],
   "source": [
    "list1.remove('maths')\n",
    "print('List Now',list1)"
   ]
  },
  {
   "cell_type": "code",
   "execution_count": 36,
   "id": "a91f8065",
   "metadata": {},
   "outputs": [
    {
     "name": "stdout",
     "output_type": "stream",
     "text": [
      "List Now ['Biology', 'chemistry', 'maths', 'physics']\n"
     ]
    }
   ],
   "source": [
    "list1=['physics', 'chemistry', 'Biology', 'maths']\n",
    "list1.sort()\n",
    "print('List Now',list1)\n"
   ]
  },
  {
   "cell_type": "code",
   "execution_count": 37,
   "id": "a5d16d17",
   "metadata": {},
   "outputs": [],
   "source": [
    "#Dictionaries\n",
    "dict={'Name':'Akosua','Age':10,'Class':'Second'}"
   ]
  },
  {
   "cell_type": "code",
   "execution_count": 38,
   "id": "b11871ba",
   "metadata": {},
   "outputs": [
    {
     "name": "stdout",
     "output_type": "stream",
     "text": [
      "Akosua\n"
     ]
    }
   ],
   "source": [
    "print(dict['Name'])"
   ]
  },
  {
   "cell_type": "code",
   "execution_count": 39,
   "id": "48ba9567",
   "metadata": {},
   "outputs": [
    {
     "name": "stdout",
     "output_type": "stream",
     "text": [
      "Second\n"
     ]
    }
   ],
   "source": [
    "print(dict['Class'])"
   ]
  },
  {
   "cell_type": "code",
   "execution_count": 40,
   "id": "ae877a8f",
   "metadata": {},
   "outputs": [
    {
     "name": "stdout",
     "output_type": "stream",
     "text": [
      "10\n"
     ]
    }
   ],
   "source": [
    "print(dict['Age'])"
   ]
  },
  {
   "cell_type": "code",
   "execution_count": 41,
   "id": "93187502",
   "metadata": {},
   "outputs": [
    {
     "name": "stdout",
     "output_type": "stream",
     "text": [
      "10\n",
      "8\n"
     ]
    }
   ],
   "source": [
    "dict={'Name':'Akosua','Age':10,'Class':'Second'}\n",
    "print(dict['Age'])\n",
    "dict['Age']=8\n",
    "print(dict['Age'])\n"
   ]
  },
  {
   "cell_type": "code",
   "execution_count": 42,
   "id": "48098ae2",
   "metadata": {},
   "outputs": [
    {
     "name": "stdout",
     "output_type": "stream",
     "text": [
      "DPS School\n"
     ]
    }
   ],
   "source": [
    "dict={'Name':'Akosua','Age':10,'Class':'Second'}\n",
    "dict['School']='DPS School'\n",
    "print(dict['School'])"
   ]
  },
  {
   "cell_type": "code",
   "execution_count": 43,
   "id": "53cc7aac",
   "metadata": {},
   "outputs": [
    {
     "name": "stdout",
     "output_type": "stream",
     "text": [
      "{'Name': 'Akosua', 'Age': 10, 'Class': 'Second', 'School': 'DPS School'}\n"
     ]
    }
   ],
   "source": [
    "print(dict)"
   ]
  },
  {
   "cell_type": "code",
   "execution_count": 44,
   "id": "d53169d7",
   "metadata": {},
   "outputs": [],
   "source": [
    "c\n",
    "del dict['Name']\n",
    "dict.clear()"
   ]
  },
  {
   "cell_type": "code",
   "execution_count": 45,
   "id": "91751efd",
   "metadata": {},
   "outputs": [
    {
     "data": {
      "text/plain": [
       "{}"
      ]
     },
     "execution_count": 45,
     "metadata": {},
     "output_type": "execute_result"
    }
   ],
   "source": [
    "dict"
   ]
  },
  {
   "cell_type": "code",
   "execution_count": 46,
   "id": "0f172c3a",
   "metadata": {},
   "outputs": [
    {
     "data": {
      "text/plain": [
       "3"
      ]
     },
     "execution_count": 46,
     "metadata": {},
     "output_type": "execute_result"
    }
   ],
   "source": [
    "dict={'Name':'Akosua','Age':10,'Class':'Second'}\n",
    "len(dict)"
   ]
  },
  {
   "cell_type": "code",
   "execution_count": 47,
   "id": "7a935360",
   "metadata": {},
   "outputs": [
    {
     "data": {
      "text/plain": [
       "\"{'Name': 'Akosua', 'Age': 10, 'Class': 'Second'}\""
      ]
     },
     "execution_count": 47,
     "metadata": {},
     "output_type": "execute_result"
    }
   ],
   "source": [
    "dict={'Name':'Akosua','Age':10,'Class':'Second'}\n",
    "str(dict)"
   ]
  },
  {
   "cell_type": "code",
   "execution_count": 48,
   "id": "38ecf1a8",
   "metadata": {},
   "outputs": [
    {
     "data": {
      "text/plain": [
       "dict_items([('Name', 'Akosua'), ('Age', 10), ('Class', 'Second')])"
      ]
     },
     "execution_count": 48,
     "metadata": {},
     "output_type": "execute_result"
    }
   ],
   "source": [
    "dict={'Name':'Akosua','Age':10,'Class':'Second'}\n",
    "dict.items()"
   ]
  },
  {
   "cell_type": "code",
   "execution_count": 49,
   "id": "2954a894",
   "metadata": {},
   "outputs": [
    {
     "data": {
      "text/plain": [
       "dict_keys(['Name', 'Age', 'Class'])"
      ]
     },
     "execution_count": 49,
     "metadata": {},
     "output_type": "execute_result"
    }
   ],
   "source": [
    "dict={'Name':'Akosua','Age':10,'Class':'Second'}\n",
    "dict.keys()"
   ]
  },
  {
   "cell_type": "code",
   "execution_count": 50,
   "id": "95bb883a",
   "metadata": {},
   "outputs": [
    {
     "data": {
      "text/plain": [
       "dict_values(['Akosua', 10, 'Second'])"
      ]
     },
     "execution_count": 50,
     "metadata": {},
     "output_type": "execute_result"
    }
   ],
   "source": [
    "dict={'Name':'Akosua','Age':10,'Class':'Second'}\n",
    "dict.values()"
   ]
  },
  {
   "cell_type": "code",
   "execution_count": 51,
   "id": "9592c012",
   "metadata": {},
   "outputs": [
    {
     "name": "stdout",
     "output_type": "stream",
     "text": [
      "Number\n",
      "100\n",
      "Good bye!\n"
     ]
    }
   ],
   "source": [
    "#Conditional statements\n",
    "\n",
    "var1=100\n",
    "\n",
    "if var1:\n",
    "    print('Number')\n",
    "    print(var1)\n",
    "    print('Good bye!')\n",
    "       "
   ]
  },
  {
   "cell_type": "code",
   "execution_count": 52,
   "id": "f10bc937",
   "metadata": {},
   "outputs": [
    {
     "name": "stdout",
     "output_type": "stream",
     "text": [
      "Good bye\n"
     ]
    }
   ],
   "source": [
    "var2=0\n",
    "\n",
    "if var2:\n",
    "    print('Number')\n",
    "    print(var2)\n",
    "print('Good bye')\n",
    "       "
   ]
  },
  {
   "cell_type": "code",
   "execution_count": 65,
   "id": "ca6a6368",
   "metadata": {},
   "outputs": [
    {
     "name": "stdout",
     "output_type": "stream",
     "text": [
      "Enter your nameAbigail Bakudie\n"
     ]
    },
    {
     "data": {
      "text/plain": [
       "'Abigail Bakudie'"
      ]
     },
     "execution_count": 65,
     "metadata": {},
     "output_type": "execute_result"
    }
   ],
   "source": [
    "input('Enter your name')"
   ]
  },
  {
   "cell_type": "code",
   "execution_count": 66,
   "id": "fd29978f",
   "metadata": {},
   "outputs": [
    {
     "name": "stdout",
     "output_type": "stream",
     "text": [
      "Enter your nameAma\n"
     ]
    }
   ],
   "source": [
    "Abi=input('Enter your name')"
   ]
  },
  {
   "cell_type": "code",
   "execution_count": 67,
   "id": "e8786127",
   "metadata": {},
   "outputs": [
    {
     "data": {
      "text/plain": [
       "'Ama'"
      ]
     },
     "execution_count": 67,
     "metadata": {},
     "output_type": "execute_result"
    }
   ],
   "source": [
    "Abi"
   ]
  },
  {
   "cell_type": "code",
   "execution_count": 68,
   "id": "2aa0b1e5",
   "metadata": {},
   "outputs": [
    {
     "name": "stdout",
     "output_type": "stream",
     "text": [
      "Enter number11\n"
     ]
    }
   ],
   "source": [
    "Abi=input('Enter number')"
   ]
  },
  {
   "cell_type": "code",
   "execution_count": 69,
   "id": "991137de",
   "metadata": {},
   "outputs": [
    {
     "data": {
      "text/plain": [
       "'11'"
      ]
     },
     "execution_count": 69,
     "metadata": {},
     "output_type": "execute_result"
    }
   ],
   "source": [
    "Abi"
   ]
  },
  {
   "cell_type": "code",
   "execution_count": 70,
   "id": "d56139ae",
   "metadata": {},
   "outputs": [
    {
     "name": "stdout",
     "output_type": "stream",
     "text": [
      "Enter your Age21\n"
     ]
    }
   ],
   "source": [
    "Abi=input('Enter your Age')"
   ]
  },
  {
   "cell_type": "code",
   "execution_count": 71,
   "id": "a6b2e995",
   "metadata": {},
   "outputs": [
    {
     "data": {
      "text/plain": [
       "'21'"
      ]
     },
     "execution_count": 71,
     "metadata": {},
     "output_type": "execute_result"
    }
   ],
   "source": [
    "Abi"
   ]
  },
  {
   "cell_type": "code",
   "execution_count": 72,
   "id": "fc4d073e",
   "metadata": {},
   "outputs": [
    {
     "name": "stdout",
     "output_type": "stream",
     "text": [
      "Enter a number11\n",
      "11\n",
      "Enter a number5\n",
      "5\n"
     ]
    }
   ],
   "source": [
    "var_num1=int(input('Enter a number'))\n",
    "print(var_num1)\n",
    "\n",
    "var_num2=int(input('Enter a number'))\n",
    "print(var_num2)"
   ]
  },
  {
   "cell_type": "code",
   "execution_count": 73,
   "id": "b772e4a6",
   "metadata": {},
   "outputs": [
    {
     "data": {
      "text/plain": [
       "16"
      ]
     },
     "execution_count": 73,
     "metadata": {},
     "output_type": "execute_result"
    }
   ],
   "source": [
    "var_num1+var_num2"
   ]
  },
  {
   "cell_type": "code",
   "execution_count": 74,
   "id": "63f1fbe3",
   "metadata": {},
   "outputs": [
    {
     "name": "stdout",
     "output_type": "stream",
     "text": [
      "Enter a number11.1\n",
      "11.1\n",
      "Enter a number2.1\n",
      "2.1\n"
     ]
    }
   ],
   "source": [
    "var_num1=float(input('Enter a number'))\n",
    "print(var_num1)\n",
    "\n",
    "var_num2=float(input('Enter a number'))\n",
    "print(var_num2)"
   ]
  },
  {
   "cell_type": "code",
   "execution_count": 75,
   "id": "403e2b70",
   "metadata": {},
   "outputs": [
    {
     "data": {
      "text/plain": [
       "13.2"
      ]
     },
     "execution_count": 75,
     "metadata": {},
     "output_type": "execute_result"
    }
   ],
   "source": [
    "var_num1+var_num2"
   ]
  },
  {
   "cell_type": "code",
   "execution_count": 77,
   "id": "799da077",
   "metadata": {},
   "outputs": [
    {
     "name": "stdout",
     "output_type": "stream",
     "text": [
      "Enter Amount:22000\n",
      "Discount 11000.0\n",
      "Net Payable 11000.0\n"
     ]
    }
   ],
   "source": [
    "amount=int(input('Enter Amount:'))\n",
    "\n",
    "if amount<1000:\n",
    "    discount=amount*0.10\n",
    "    print('Discount',discount)\n",
    "elif amount<5000:\n",
    "     discount=amount*0.25\n",
    "     print('Discount',discount)\n",
    "else:\n",
    "    discount=amount*0.50\n",
    "    print('Discount',discount)\n",
    "    \n",
    "print('Net Payable',amount-discount)\n",
    "    "
   ]
  },
  {
   "cell_type": "code",
   "execution_count": null,
   "id": "4dcef994",
   "metadata": {},
   "outputs": [],
   "source": []
  },
  {
   "cell_type": "code",
   "execution_count": null,
   "id": "6a193115",
   "metadata": {},
   "outputs": [],
   "source": []
  }
 ],
 "metadata": {
  "kernelspec": {
   "display_name": "Python 3 (ipykernel)",
   "language": "python",
   "name": "python3"
  },
  "language_info": {
   "codemirror_mode": {
    "name": "ipython",
    "version": 3
   },
   "file_extension": ".py",
   "mimetype": "text/x-python",
   "name": "python",
   "nbconvert_exporter": "python",
   "pygments_lexer": "ipython3",
   "version": "3.9.12"
  }
 },
 "nbformat": 4,
 "nbformat_minor": 5
}
